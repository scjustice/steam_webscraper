{
 "cells": [
  {
   "cell_type": "code",
   "execution_count": null,
   "metadata": {},
   "outputs": [],
   "source": [
    "import numpy as np\n",
    "import pandas as pd"
   ]
  },
  {
   "cell_type": "code",
   "execution_count": null,
   "metadata": {},
   "outputs": [],
   "source": [
    "game_data = pd.read_csv('game_data_final.csv')\n",
    "game_data = game_data.drop_duplicates()\n",
    "game_data.reset_index(inplace=True)"
   ]
  },
  {
   "cell_type": "code",
   "execution_count": null,
   "metadata": {},
   "outputs": [],
   "source": [
    "def fill_tag_columns(x):\n",
    "    # Convert list of tags in to individual columns\n",
    "    ret_df = pd.DataFrame()    \n",
    "    for row in x:\n",
    "        list_size = len(row)\n",
    "        temp_dict = {}\n",
    "        for i in range(list_size):\n",
    "            #temp_dict['tag_list'] = [row]\n",
    "            temp_dict['tag{}'.format(i+1)] = [row[i]]\n",
    "        if (list_size < 20):\n",
    "            for y in range(list_size+1,21):\n",
    "                temp_dict['tag{}'.format(y)] = '' \n",
    "        temp_df = pd.DataFrame.from_dict(temp_dict)\n",
    "        ret_df = temp_df if ret_df.empty else ret_df.append(temp_df, ignore_index=True)\n",
    "    return ret_df\n"
   ]
  },
  {
   "cell_type": "code",
   "execution_count": null,
   "metadata": {},
   "outputs": [],
   "source": [
    "# Handle instances where no tags are defined for a game\n",
    "null_tags = game_data.loc[game_data.tag_list.isnull()]\n",
    "game_data.loc[game_data.tag_list.isnull(), 'tag_list'] = ''\n",
    "# Convert the string of tags in to a list\n",
    "tags_list_form = game_data['tag_list'].str.split(',')\n",
    "game_data['tag_list'] = tags_list_form"
   ]
  },
  {
   "cell_type": "code",
   "execution_count": null,
   "metadata": {},
   "outputs": [],
   "source": [
    "# Create new dataframe with tags set as individual columns\n",
    "temp_df = fill_tag_columns(game_data.tag_list)"
   ]
  },
  {
   "cell_type": "code",
   "execution_count": null,
   "metadata": {},
   "outputs": [],
   "source": [
    "# concat new dataframe to the original dataframe\n",
    "game_data = pd.concat([game_data, temp_df], sort=False, axis=1, ignore_index=False)"
   ]
  },
  {
   "cell_type": "code",
   "execution_count": null,
   "metadata": {},
   "outputs": [],
   "source": [
    "# Create a list that contains all of the tags from the dataframe\n",
    "all_tag_list = game_data.tag_list.agg(sum)\n",
    "# Convert this list to a set to get unique list of tags\n",
    "tag_set = set(all_tag_list)"
   ]
  },
  {
   "cell_type": "code",
   "execution_count": null,
   "metadata": {},
   "outputs": [],
   "source": [
    "tag_dict = {}\n",
    "# Create a dictionary containing the list of tags and count of each tag\n",
    "for x in sorted(tag_set):\n",
    "    tag_mask = (game_data.filter(regex='tag\\d+') == x).any(axis='columns')\n",
    "    tag_dict[x] = len(game_data.loc[tag_mask].index)"
   ]
  },
  {
   "cell_type": "code",
   "execution_count": null,
   "metadata": {},
   "outputs": [],
   "source": [
    "tag_count_list = [(tag_key, tag_dict[tag_key]) for tag_key in sorted(tag_dict, key=tag_dict.get, reverse=True)]\n",
    "tag_count_list = tag_count_list[1:]\n",
    "# Pick out the top ten tags. Skip first entry since it contains the empty strings.\n",
    "top_tags = [x[0] for x in tag_count_list]\n",
    "top_ten_tags = top_tags[0:10]"
   ]
  },
  {
   "cell_type": "code",
   "execution_count": null,
   "metadata": {},
   "outputs": [],
   "source": [
    "# Create an empty dataframe with the index and column names set to top ten tags\n",
    "tag_df = pd.DataFrame( columns=top_ten_tags, index=top_ten_tags)\n",
    "total_num_games = max(game_data.index)"
   ]
  },
  {
   "cell_type": "code",
   "execution_count": null,
   "metadata": {},
   "outputs": [],
   "source": [
    "# Function to filter rows that contain the a particular tag\n",
    "def filter_tags(df, tag):\n",
    "    return (df.filter(regex='tag\\d+') == tag).any(axis='columns')"
   ]
  },
  {
   "cell_type": "code",
   "execution_count": null,
   "metadata": {},
   "outputs": [],
   "source": [
    "# Fill tag_df dataframe with the percentage occurence for each combination of tags\n",
    "for x in tag_df.columns:\n",
    "    for y in tag_df.index:\n",
    "        tag_df.loc[y,x] = np.sum(filter_tags(game_data, x) & filter_tags(game_data,y))/total_num_games"
   ]
  },
  {
   "cell_type": "code",
   "execution_count": null,
   "metadata": {},
   "outputs": [],
   "source": [
    "# Make sure that each entry is a float\n",
    "tag_df = tag_df.astype(float)"
   ]
  },
  {
   "cell_type": "code",
   "execution_count": null,
   "metadata": {},
   "outputs": [],
   "source": [
    "import matplotlib.pyplot as plt\n",
    "import seaborn as sns\n",
    "%matplotlib inline\n",
    "\n",
    "#Plot the values of the tag from tag_df without the values in the lower triangle since they are redundant\n",
    "tag_df_matrix = tag_df.values\n",
    "print(type(tag_df_matrix))\n",
    "plot_mask = np.zeros_like(tag_df.values)\n",
    "plot_mask[np.tril_indices_from(plot_mask, k=-1)] = True\n",
    "plt.rcParams[\"figure.figsize\"] = [12,8]\n",
    "with sns.axes_style(\"white\"):\n",
    "    ax = sns.heatmap(tag_df, mask=plot_mask, square=True, vmin=0.0, vmax=1,cmap=\"YlGnBu\", annot=True)\n",
    "ax.axes.set_title('Tag Combinations', fontsize=20)\n",
    "ax.collections[0].colorbar.set_label('Ratio of Games', fontsize=20)"
   ]
  },
  {
   "cell_type": "code",
   "execution_count": null,
   "metadata": {},
   "outputs": [],
   "source": [
    "# Bar chart of the number of games tagged with the top ten tags\n",
    "sns.set(style=\"whitegrid\")\n",
    "temp_series = pd.Series(dict(tag_count_list))\n",
    "temp_df = temp_series.to_frame().reset_index()\n",
    "temp_df.columns = ['Tag','Count']\n",
    "plt.rcParams[\"figure.figsize\"] = [12,8]\n",
    "ax = sns.barplot(x='Tag', y='Count',data=temp_df.iloc[0:10])\n",
    "# Rotate x tick labels slightly to make it easier to read\n",
    "ax.set_xticklabels(ax.get_xticklabels(), rotation=40, ha=\"right\")\n",
    "ax.set_xlabel('Category', fontsize=20)\n",
    "ax.set_ylabel('Count', fontsize=20)\n",
    "ax.set_title('Number of Games Per Tag', fontsize=20)"
   ]
  },
  {
   "cell_type": "code",
   "execution_count": null,
   "metadata": {},
   "outputs": [],
   "source": [
    "# Divide the data set in two between games that have a price and ones that are Free to Play\n",
    "game_data_priced = game_data.loc[game_data.price.str.contains('\\.')]\n",
    "game_data_free = game_data.loc[~game_data.price.str.contains('\\.')]\n",
    "# Change type of price to float since there are no strings in column now\n",
    "game_data_priced.loc[:,'price'] = game_data_priced.price.astype(float)"
   ]
  },
  {
   "cell_type": "code",
   "execution_count": null,
   "metadata": {},
   "outputs": [],
   "source": [
    "# Remove items from a column that are more than six standard deviations from the mean\n",
    "def remove_outliers(df, col):\n",
    "    return df.loc[np.abs(df.loc[:,col] - df.loc[:,col].mean()) <= 3*(df.loc[:,col].std()), [col]]\n",
    "\n",
    "# Get the price of all of the games that have a particular tag\n",
    "def get_tag_prices(df, tag):\n",
    "    return pd.DataFrame(game_data_priced.loc[filter_tags(game_data_priced, tag),'price'])"
   ]
  },
  {
   "cell_type": "code",
   "execution_count": null,
   "metadata": {},
   "outputs": [],
   "source": [
    "# Create a list of dataframes with two columns, price and tag for each of the top ten tags\n",
    "merged_df_price = pd.DataFrame(columns=['price', 'Tag'])\n",
    "df_list = []\n",
    "for cur_tag in top_ten_tags:\n",
    "    # Make sure to remove outliers from the price data\n",
    "    temp = remove_outliers(get_tag_prices(game_data_priced, cur_tag), 'price')\n",
    "    temp['Tag'] = cur_tag\n",
    "    df_list.append(temp)\n",
    "\n",
    "# Concat the list of dataframes in to one dataframe for plotting\n",
    "merged_df_price = pd.concat(df_list, keys=top_tags[0:10], sort=False)\n",
    "ax = sns.boxplot(data=merged_df_price, x='Tag', y='price', dodge=True)\n",
    "ax.set_xticklabels(ax.get_xticklabels(), rotation=40, ha=\"right\")\n",
    "ax.set_xlabel('Category', fontsize=20)\n",
    "ax.set_ylabel('Price', fontsize =20)\n",
    "ax.set_title('Box Plots of Prices for Top Ten Tags', fontsize=20)"
   ]
  },
  {
   "cell_type": "code",
   "execution_count": null,
   "metadata": {},
   "outputs": [],
   "source": [
    "# Violinn plots of price per tag data\n",
    "ax = sns.violinplot(data=merged_df_price, x='Tag', y='price', dodge=True)\n",
    "ax.set_xticklabels(ax.get_xticklabels(), rotation=40, ha=\"right\")\n",
    "ax.set_xlabel('Category', fontsize=20)\n",
    "ax.set_ylabel('Price', fontsize =20)\n",
    "ax.set_title('Box Plots of Prices for Top Ten Tags', fontsize=20)"
   ]
  },
  {
   "cell_type": "code",
   "execution_count": null,
   "metadata": {},
   "outputs": [],
   "source": [
    "# Copy the game data to a smaller dataframe to analyze the description given for each game\n",
    "tags_for_description = ['description','price']\n",
    "tags_for_description += ['tag{}'.format(x) for x in range(1,21)]\n",
    "game_descriptions = game_data.loc[:,tags_for_description]\n",
    "# Handle empty game descriptions\n",
    "game_descriptions['description'] = game_descriptions.description.fillna('')"
   ]
  },
  {
   "cell_type": "code",
   "execution_count": null,
   "metadata": {},
   "outputs": [],
   "source": [
    "import re\n",
    "# Convert all characters to lower case\n",
    "game_descriptions['description'] = game_descriptions.description.str.lower()\n",
    "# Replace all whitespace with a single space\n",
    "game_descriptions['description'] = game_descriptions.description.apply(lambda x: re.sub('\\s+', ' ', x))\n",
    "# Remove all entries that don't have a description\n",
    "game_descriptions = game_descriptions.loc[game_descriptions['description'] != '']\n",
    "# Get rid of all punctuation\n",
    "game_descriptions['description'] = game_descriptions.description.apply(lambda x: re.sub('[^\\w\\s]', '', x))"
   ]
  },
  {
   "cell_type": "code",
   "execution_count": null,
   "metadata": {},
   "outputs": [],
   "source": [
    "from nltk.corpus import stopwords\n",
    "from nltk.tokenize import word_tokenize \n",
    "stop = stopwords.words('english')\n",
    "# Expand stop words to include common game terms that are not descriptive\n",
    "stop += ['game', 'games','play','player', 'world', 'new', 'one']\n",
    "# Remove all stop words from description\n",
    "game_descriptions['description'] = game_descriptions.description.apply(lambda x: \" \".join(x for x in x.split() if x not in stop))"
   ]
  },
  {
   "cell_type": "code",
   "execution_count": null,
   "metadata": {},
   "outputs": [],
   "source": [
    "from wordcloud import WordCloud\n",
    "# Generate the wordcloud from the description\n",
    "wc = WordCloud(background_color=\"white\", max_words=2000)\n",
    "wc.generate(' '.join(game_descriptions['description']))\n",
    "\n",
    "plt.figure(figsize=(10,8))\n",
    "plt.imshow(wc, interpolation='bilinear')\n",
    "plt.axis(\"off\")\n",
    "plt.show()"
   ]
  },
  {
   "cell_type": "code",
   "execution_count": null,
   "metadata": {},
   "outputs": [],
   "source": [
    "# Plot the distribution of prices for the data set\n",
    "plt.rcParams[\"figure.figsize\"] = [8,12]\n",
    "f, axes = plt.subplots(2,1, )\n",
    "plt.subplots_adjust(hspace=0.3)\n",
    "# Histogram of price distribution\n",
    "sns.distplot(a=remove_outliers(game_data_priced, 'price').price, norm_hist=False, kde=False, ax=axes[0])\n",
    "axes[0].set_xlabel('Price', fontsize=20)\n",
    "axes[0].set_ylabel('Count', fontsize=20)\n",
    "axes[0].set_title('Histogram of Price Distribution', fontsize=20)\n",
    "\n",
    "# Violin plot f price distribution\n",
    "sns.violinplot(data=remove_outliers(game_data_priced, 'price'), x='price', ax=axes[1] )\n",
    "axes[1].set_xlabel('Price', fontsize=20)\n",
    "axes[1].set_ylabel('Count', fontsize=20)\n",
    "axes[1].set_title('Violin Plot of Price Distribution', fontsize=20)"
   ]
  },
  {
   "cell_type": "code",
   "execution_count": null,
   "metadata": {},
   "outputs": [],
   "source": []
  }
 ],
 "metadata": {
  "kernelspec": {
   "display_name": "Python [conda env:Anaconda3]",
   "language": "python",
   "name": "conda-env-Anaconda3-py"
  },
  "language_info": {
   "codemirror_mode": {
    "name": "ipython",
    "version": 3
   },
   "file_extension": ".py",
   "mimetype": "text/x-python",
   "name": "python",
   "nbconvert_exporter": "python",
   "pygments_lexer": "ipython3",
   "version": "3.6.6"
  }
 },
 "nbformat": 4,
 "nbformat_minor": 2
}
